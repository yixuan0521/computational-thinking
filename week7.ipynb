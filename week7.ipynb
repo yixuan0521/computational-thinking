{
  "nbformat": 4,
  "nbformat_minor": 0,
  "metadata": {
    "colab": {
      "name": "week7",
      "provenance": [],
      "authorship_tag": "ABX9TyNL9vfW6C+jBo905efUWJzQ",
      "include_colab_link": true
    },
    "kernelspec": {
      "name": "python3",
      "display_name": "Python 3"
    }
  },
  "cells": [
    {
      "cell_type": "markdown",
      "metadata": {
        "id": "view-in-github",
        "colab_type": "text"
      },
      "source": [
        "<a href=\"https://colab.research.google.com/github/yixuan0521/computational-thinking/blob/master/week7.ipynb\" target=\"_parent\"><img src=\"https://colab.research.google.com/assets/colab-badge.svg\" alt=\"Open In Colab\"/></a>"
      ]
    },
    {
      "cell_type": "code",
      "metadata": {
        "id": "t-euglqxKjE0"
      },
      "source": [
        "magic_number =3\n",
        "magic_number =(magic_number**(magic_number%magic_number))*333\n",
        "print(magic_number)\n"
      ],
      "execution_count": null,
      "outputs": []
    }
  ]
}