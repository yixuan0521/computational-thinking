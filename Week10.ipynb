{
  "nbformat": 4,
  "nbformat_minor": 0,
  "metadata": {
    "colab": {
      "name": "Week10.ipynb",
      "provenance": [],
      "authorship_tag": "ABX9TyNbSeokgidfRxruXzmeQCnS",
      "include_colab_link": true
    },
    "kernelspec": {
      "name": "python3",
      "display_name": "Python 3"
    }
  },
  "cells": [
    {
      "cell_type": "markdown",
      "metadata": {
        "id": "view-in-github",
        "colab_type": "text"
      },
      "source": [
        "<a href=\"https://colab.research.google.com/github/yixuan0521/computational-thinking/blob/master/Week10.ipynb\" target=\"_parent\"><img src=\"https://colab.research.google.com/assets/colab-badge.svg\" alt=\"Open In Colab\"/></a>"
      ]
    },
    {
      "cell_type": "code",
      "metadata": {
        "colab": {
          "base_uri": "https://localhost:8080/"
        },
        "id": "Xbw8UE6sIigU",
        "outputId": "11e20ec5-37d2-4ca8-e1f3-2d06812cc536"
      },
      "source": [
        "Cans = int(input(\"請輸入購買的飲料罐數? \"))\n",
        "Total = (Cans//12)*200 + (Cans%12)*20\n",
        "print(\"需花費\",Total) "
      ],
      "execution_count": 1,
      "outputs": [
        {
          "output_type": "stream",
          "text": [
            "請輸入購買的飲料罐數? 50\n",
            "需花費 840\n"
          ],
          "name": "stdout"
        }
      ]
    }
  ]
}