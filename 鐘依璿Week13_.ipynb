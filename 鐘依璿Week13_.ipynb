{
  "nbformat": 4,
  "nbformat_minor": 0,
  "metadata": {
    "colab": {
      "name": "鐘依璿Week13 .ipynb",
      "provenance": [],
      "authorship_tag": "ABX9TyNq3x/GwFFMveCpFKAXqYUz",
      "include_colab_link": true
    },
    "kernelspec": {
      "name": "python3",
      "display_name": "Python 3"
    }
  },
  "cells": [
    {
      "cell_type": "markdown",
      "metadata": {
        "id": "view-in-github",
        "colab_type": "text"
      },
      "source": [
        "<a href=\"https://colab.research.google.com/github/yixuan0521/computational-thinking/blob/master/%E9%90%98%E4%BE%9D%E7%92%BFWeek13_.ipynb\" target=\"_parent\"><img src=\"https://colab.research.google.com/assets/colab-badge.svg\" alt=\"Open In Colab\"/></a>"
      ]
    },
    {
      "cell_type": "code",
      "metadata": {
        "colab": {
          "base_uri": "https://localhost:8080/"
        },
        "id": "WJT70CGNnpt3",
        "outputId": "9ac0697d-153f-4193-fa1b-b3ead185cd35"
      },
      "source": [
        "# 資料容器-List\n",
        "\n",
        "## 文字串列\n",
        "## 數字串列\n",
        "## 混和串列\n",
        "\n",
        "list1 = [1,2,3,4,5]\n",
        "\n",
        "## 索引 position index - 0\n",
        "\n",
        "list1[0] # 1\n",
        "list1[4] # 5\n",
        "list1[-1] # 5\n",
        "\n",
        "## **切片**\n",
        "list1[1:4] # [2, 3, 4]\n",
        "\n",
        "# 數字串列二: range()\n",
        "list1 = [1,2,3,4,5]\n",
        "\n",
        "list2 = range(1,1000,1) # [1,2,3,4,5]\n",
        "\n",
        "list3 = range(1,6,2) # [1,3,5]\n",
        "\n",
        "#[0,1,2,3,4]\n",
        "\n",
        "for i in range(5):\n",
        "    print(\"Hello\")\n",
        "\n",
        "#印出100個Hello\n",
        "for i in range(0,5,1):\n",
        "    print(\"Hello\")\n",
        "\n",
        "#[0,1,2,3,4,5]\n",
        "for i in range(0,5,1):\n",
        "    print(i)\n",
        "\n",
        "#[2,3,4,5]\n",
        "for i in range(2,6,1):\n",
        "    print(i)"
      ],
      "execution_count": 24,
      "outputs": [
        {
          "output_type": "stream",
          "text": [
            "Hello\n",
            "Hello\n",
            "Hello\n",
            "Hello\n",
            "Hello\n",
            "Hello\n",
            "Hello\n",
            "Hello\n",
            "Hello\n",
            "Hello\n",
            "0\n",
            "1\n",
            "2\n",
            "3\n",
            "4\n",
            "2\n",
            "3\n",
            "4\n",
            "5\n"
          ],
          "name": "stdout"
        }
      ]
    },
    {
      "cell_type": "code",
      "metadata": {
        "colab": {
          "base_uri": "https://localhost:8080/"
        },
        "id": "ejJpO0tr7xEP",
        "outputId": "1344d164-9ef2-41a9-d242-170edc6d6a72"
      },
      "source": [
        "# 數字1到10之和。\n",
        "## 1+2+3+4+5+6+7+8+9+10=?\n",
        "sum = 0 # 起始條件\n",
        "for i in range(1, 11, 1): #數字串列[1,2,3,4,5,6,7,8,9,10]\n",
        "    sum = sum + i # 加總運算,變更條件\n",
        "print(\"Total is\", sum)"
      ],
      "execution_count": 25,
      "outputs": [
        {
          "output_type": "stream",
          "text": [
            "Total is 55\n"
          ],
          "name": "stdout"
        }
      ]
    },
    {
      "cell_type": "code",
      "metadata": {
        "colab": {
          "base_uri": "https://localhost:8080/"
        },
        "id": "qhbnKae6tciJ",
        "outputId": "3f4b1b3b-6cb8-4d06-f7b1-364bcf7d7365"
      },
      "source": [
        "# range(start, stop, step)\n",
        "# [0,1,2,3,4,5,6,7,8,9]\n",
        "## start = 0, step = 1, stop = 10\n",
        "d = range(0,10,1)\n",
        "print(d[0], d[1], d[2], d[3], d[4], d[5], d[6], d[7], d[8], d[9])\n",
        "\n",
        "# [0,2,4,6,8]\n",
        "## start = 0, step = 2, stop = 10\n",
        "c = range(0,10,2)\n",
        "print(c[0],c[1],c[2],c[3],c[4])\n",
        "\n",
        "# [5,7,9]\n",
        "## start = 5, step = 2, stop = 11\n",
        "b = range(5,11,2)\n",
        "print(b[0],b[1],b[2])\n",
        "\n",
        "# [0, -1, -2, -3, -4, -5, -6, -7, -8, -9]\n",
        "## start = 0, step = -1, stop = -10\n",
        "a = range(0,-10,-1)\n",
        "\n",
        "print(a[0], a[1], a[2], a[3], a[4], a[5], a[6], a[7], a[8], a[9])\n",
        "\n"
      ],
      "execution_count": 20,
      "outputs": [
        {
          "output_type": "stream",
          "text": [
            "0 1 2 3 4 5 6 7 8 9\n",
            "0 2 4 6 8\n",
            "5 7 9\n",
            "0 -1 -2 -3 -4 -5 -6 -7 -8 -9\n"
          ],
          "name": "stdout"
        }
      ]
    }
  ]
}