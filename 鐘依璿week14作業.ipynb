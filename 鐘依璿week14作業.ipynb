{
  "nbformat": 4,
  "nbformat_minor": 0,
  "metadata": {
    "colab": {
      "name": "鐘依璿week14作業.ipynb",
      "provenance": [],
      "authorship_tag": "ABX9TyOIBXZ5VuCSQj/81DDR3jgk",
      "include_colab_link": true
    },
    "kernelspec": {
      "name": "python3",
      "display_name": "Python 3"
    }
  },
  "cells": [
    {
      "cell_type": "markdown",
      "metadata": {
        "id": "view-in-github",
        "colab_type": "text"
      },
      "source": [
        "<a href=\"https://colab.research.google.com/github/yixuan0521/computational-thinking/blob/master/%E9%90%98%E4%BE%9D%E7%92%BFweek14%E4%BD%9C%E6%A5%AD.ipynb\" target=\"_parent\"><img src=\"https://colab.research.google.com/assets/colab-badge.svg\" alt=\"Open In Colab\"/></a>"
      ]
    },
    {
      "cell_type": "code",
      "metadata": {
        "colab": {
          "base_uri": "https://localhost:8080/"
        },
        "id": "EofNEUA2uRjw",
        "outputId": "d73af44f-6630-426d-aeb2-288502e60c1e"
      },
      "source": [
        "n = 5\r\n",
        "sum = 0\r\n",
        "for i in range(1, n + 1):\r\n",
        "    sum = sum + i*i\r\n",
        "print(\"Total is\", sum)"
      ],
      "execution_count": 1,
      "outputs": [
        {
          "output_type": "stream",
          "text": [
            "Total is 55\n"
          ],
          "name": "stdout"
        }
      ]
    },
    {
      "cell_type": "code",
      "metadata": {
        "colab": {
          "base_uri": "https://localhost:8080/"
        },
        "id": "0f2sH2FGxx1o",
        "outputId": "e1c041e5-0b32-480c-f4c1-13f07040f295"
      },
      "source": [
        "people = [\"Evelyn\", \"Doby\", \"Karen\", \"Vincent\", \"Julia\", \"Becca\"]\r\n",
        "desserts = [\"brownie\", \"cheese cake\", \"apple pie\", \"chocolate cake\", \"fruit pie\", \"lemon tart\"]\r\n",
        "\r\n",
        "for index in range(len(people)):\r\n",
        "  name = people[index]\r\n",
        "  dessert = desserts[index]\r\n",
        "  print(f\"Hi! My name is {name}. My favorite dessert is {dessert}.\")\r\n",
        "  "
      ],
      "execution_count": 2,
      "outputs": [
        {
          "output_type": "stream",
          "text": [
            "Hi! My name is Evelyn. My favorite dessert is brownie.\n",
            "Hi! My name is Doby. My favorite dessert is cheese cake.\n",
            "Hi! My name is Karen. My favorite dessert is apple pie.\n",
            "Hi! My name is Vincent. My favorite dessert is chocolate cake.\n",
            "Hi! My name is Julia. My favorite dessert is fruit pie.\n",
            "Hi! My name is Becca. My favorite dessert is lemon tart.\n"
          ],
          "name": "stdout"
        }
      ]
    }
  ]
}