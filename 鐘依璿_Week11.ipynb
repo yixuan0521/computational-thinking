{
  "nbformat": 4,
  "nbformat_minor": 0,
  "metadata": {
    "colab": {
      "name": "鐘依璿-Week11.ipynb",
      "provenance": [],
      "authorship_tag": "ABX9TyO8DRpjsUgeFOybsxbnEPXX",
      "include_colab_link": true
    },
    "kernelspec": {
      "name": "python3",
      "display_name": "Python 3"
    }
  },
  "cells": [
    {
      "cell_type": "markdown",
      "metadata": {
        "id": "view-in-github",
        "colab_type": "text"
      },
      "source": [
        "<a href=\"https://colab.research.google.com/github/yixuan0521/computational-thinking/blob/master/%E9%90%98%E4%BE%9D%E7%92%BF_Week11.ipynb\" target=\"_parent\"><img src=\"https://colab.research.google.com/assets/colab-badge.svg\" alt=\"Open In Colab\"/></a>"
      ]
    },
    {
      "cell_type": "markdown",
      "metadata": {
        "id": "H8UUQih0nbu3"
      },
      "source": [
        "##### 習題解答:報告分組\n"
      ]
    },
    {
      "cell_type": "code",
      "metadata": {
        "colab": {
          "base_uri": "https://localhost:8080/"
        },
        "id": "F82bKv-2oYB6",
        "outputId": "123d1182-4a5f-44cf-b6f8-09f37b0a27fe"
      },
      "source": [
        "# 方法(一):商數\n",
        "## Input\n",
        "number = input(\"Enter your seat number?\" )\n",
        "number = int(number)\n",
        "## Process\n",
        "group = (number - 1) // 5\n",
        "## Output\n",
        "print(\"Groups is\", group)"
      ],
      "execution_count": 3,
      "outputs": [
        {
          "output_type": "stream",
          "text": [
            "Enter your seat number?60\n",
            "Groups is 11\n"
          ],
          "name": "stdout"
        }
      ]
    }
  ]
}