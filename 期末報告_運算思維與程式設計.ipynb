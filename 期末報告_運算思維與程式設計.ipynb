{
  "nbformat": 4,
  "nbformat_minor": 0,
  "metadata": {
    "colab": {
      "name": "期末報告_運算思維與程式設計.ipynb",
      "provenance": [],
      "include_colab_link": true
    },
    "kernelspec": {
      "name": "python3",
      "display_name": "Python 3"
    }
  },
  "cells": [
    {
      "cell_type": "markdown",
      "metadata": {
        "id": "view-in-github",
        "colab_type": "text"
      },
      "source": [
        "<a href=\"https://colab.research.google.com/github/yixuan0521/computational-thinking/blob/master/%E6%9C%9F%E6%9C%AB%E5%A0%B1%E5%91%8A_%E9%81%8B%E7%AE%97%E6%80%9D%E7%B6%AD%E8%88%87%E7%A8%8B%E5%BC%8F%E8%A8%AD%E8%A8%88.ipynb\" target=\"_parent\"><img src=\"https://colab.research.google.com/assets/colab-badge.svg\" alt=\"Open In Colab\"/></a>"
      ]
    },
    {
      "cell_type": "markdown",
      "metadata": {
        "id": "qeW3N_G35t7M"
      },
      "source": [
        "組員：A109260004_鐘依璿、A109260060_林衣妙、A109260058_李怡湘"
      ]
    },
    {
      "cell_type": "markdown",
      "metadata": {
        "id": "01WR8i-c3fL6"
      },
      "source": [
        "# A109260004_鐘依璿"
      ]
    },
    {
      "cell_type": "code",
      "metadata": {
        "id": "KTFkNTWt3I9f",
        "colab": {
          "base_uri": "https://localhost:8080/"
        },
        "outputId": "a9620f5a-cca8-457a-b9df-90a19154d52c"
      },
      "source": [
        "#自我介紹\r\n",
        "\r\n",
        "print(\"您好!我是新來的智慧音響，請幫我取名!\")\r\n",
        "name = input(\"你的名子是\")\r\n",
        "print(\"真是個好名子，我喜歡!\")"
      ],
      "execution_count": null,
      "outputs": [
        {
          "output_type": "stream",
          "text": [
            "您好!我是新來的智慧音響，請幫我取名!\n",
            "你的名子是11\n",
            "真是個好名子，我喜歡!\n"
          ],
          "name": "stdout"
        }
      ]
    },
    {
      "cell_type": "code",
      "metadata": {
        "id": "GHxnwD3w3-OQ",
        "colab": {
          "base_uri": "https://localhost:8080/"
        },
        "outputId": "777f5fa6-b504-4a28-d384-2223dffb5efc"
      },
      "source": [
        "#功能_記錄音樂喜好\r\n",
        "\r\n",
        "ans = input(\"請問成員們有什麼特別嗜好嗎?(當然有)\")\r\n",
        "if ans == \"當然有\":\r\n",
        " members = [\"David\", \"Sherry\", \"Hank\", \"Jessica\"]\r\n",
        "music = [\"爵士樂\", \"古典樂\", \"搖滾樂\", \"流行樂\"]\r\n",
        "for index in range(len(members)):\r\n",
        "  member = members[index]\r\n",
        "  musics = music[index]\r\n",
        "  print(f\"{member}喜歡{musics}\")"
      ],
      "execution_count": null,
      "outputs": [
        {
          "output_type": "stream",
          "text": [
            "請問成員們有什麼特別嗜好嗎?(當然有)當然有\n",
            "David喜歡爵士樂\n",
            "Sherry喜歡古典樂\n",
            "Hank喜歡搖滾樂\n",
            "Jessica喜歡流行樂\n"
          ],
          "name": "stdout"
        }
      ]
    },
    {
      "cell_type": "code",
      "metadata": {
        "id": "vn_Bkknr4jNn",
        "colab": {
          "base_uri": "https://localhost:8080/"
        },
        "outputId": "d66bacd5-37c1-4462-a5ac-ea9d5fe3f57e"
      },
      "source": [
        "#功能_鬧鐘和行程表\r\n",
        "\r\n",
        "print(\"請幫我查詢行程表\")\r\n",
        "day = input(\"輸入星期幾: \")\r\n",
        "if day == \"星期一\":\r\n",
        "  alarm = \"7:30am\"\r\n",
        "  curriculum = True\r\n",
        "  job = True\r\n",
        "elif day == \"星期二\":\r\n",
        "  alarm = \"6:30am\"\r\n",
        "  curriculum = True\r\n",
        "  job = False\r\n",
        "elif day == \"星期三\":\r\n",
        "  alarm = \"8:30am\"\r\n",
        "  curriculum = True\r\n",
        "  job = True\r\n",
        "elif day == \"星期四\":\r\n",
        "  alarm = \"6:30am\"\r\n",
        "  curriculum = True\r\n",
        "  job = True\r\n",
        "elif day == \"星期五\":\r\n",
        "  alarm = \"7:30am\"\r\n",
        "  curriculum = True\r\n",
        "  job = False\r\n",
        "else:\r\n",
        "  alarm = \"OFF\"\r\n",
        "  curriculum = True\r\n",
        "  job = False\r\n",
        "print(alarm, curriculum, job)"
      ],
      "execution_count": null,
      "outputs": [
        {
          "output_type": "stream",
          "text": [
            "請幫我查詢行程表\n",
            "輸入星期幾: 星期三\n",
            "8:30am True True\n"
          ],
          "name": "stdout"
        }
      ]
    },
    {
      "cell_type": "markdown",
      "metadata": {
        "id": "z1x6OnsE5azL"
      },
      "source": [
        "# A109260060_林衣妙"
      ]
    },
    {
      "cell_type": "code",
      "metadata": {
        "id": "hJFaoc7K5dKv",
        "colab": {
          "base_uri": "https://localhost:8080/"
        },
        "outputId": "2532c19b-6a76-4570-b4f2-440ceb126c0e"
      },
      "source": [
        "#功能_氣象\r\n",
        "\r\n",
        "weather = input(\"今天天氣如何?\")\r\n",
        "if weather == \"晴天\":\r\n",
        "  print(\"今天不需要帶傘\")\r\n",
        "\r\n",
        "else:\r\n",
        "  print(\"今天可能會下雨\")\r\n",
        "  pro= int(input(\"輸入降雨機率?\"))\r\n",
        "\r\n",
        "  if pro >= 60:\r\n",
        "   print(\"今天高機率會下雨\")\r\n",
        "   print(\"今天需要帶傘\")\r\n",
        "  else:\r\n",
        "   print(\"今天不用帶傘\")"
      ],
      "execution_count": null,
      "outputs": [
        {
          "output_type": "stream",
          "text": [
            "今天天氣如何?陰天\n",
            "今天可能會下雨\n",
            "輸入降雨機率?30\n",
            "今天不用帶傘\n"
          ],
          "name": "stdout"
        }
      ]
    },
    {
      "cell_type": "markdown",
      "metadata": {
        "id": "ByQ6bTAu3VUh"
      },
      "source": [
        "# A109260058_李怡湘"
      ]
    },
    {
      "cell_type": "code",
      "metadata": {
        "id": "NLamgg8Jnsbi",
        "colab": {
          "base_uri": "https://localhost:8080/"
        },
        "outputId": "01a819d8-376d-4d98-ca6b-39171c675f94"
      },
      "source": [
        "#功能_重量換算(公斤換台斤)\r\n",
        "\r\n",
        "K = float(input(\"請輸入公斤數?\"))\r\n",
        "T = (K*6)/10\r\n",
        "\r\n",
        "print(\"台斤數為\", T)"
      ],
      "execution_count": null,
      "outputs": [
        {
          "output_type": "stream",
          "text": [
            "請輸入公斤數?1\n",
            "台斤數為 0.6\n"
          ],
          "name": "stdout"
        }
      ]
    },
    {
      "cell_type": "code",
      "metadata": {
        "id": "qdGTKiAhnvRo",
        "colab": {
          "base_uri": "https://localhost:8080/"
        },
        "outputId": "a6b75def-ea3e-4127-e231-4b34e9227437"
      },
      "source": [
        "#功能_重量換算(台斤換公斤)\r\n",
        "\r\n",
        "T = float(input(\"請輸入台斤數?\"))\r\n",
        "K = (T*10)/6\r\n",
        "\r\n",
        "print(\"公斤數為\", K)"
      ],
      "execution_count": null,
      "outputs": [
        {
          "output_type": "stream",
          "text": [
            "請輸入台斤數?0.6\n",
            "公斤數為 1.0\n"
          ],
          "name": "stdout"
        }
      ]
    },
    {
      "cell_type": "code",
      "metadata": {
        "id": "li2liE6Knznw",
        "colab": {
          "base_uri": "https://localhost:8080/"
        },
        "outputId": "27dbcb0c-d66c-4cac-d077-1dd0f3ce1190"
      },
      "source": [
        "#功能_計算BMI\r\n",
        "\r\n",
        "W = float(input(\"請問您的體重(kg)?\"))\r\n",
        "H = float(input(\"請問您的身高(cm)?\"))\r\n",
        "\r\n",
        "X = W/((H/100)**2)\r\n",
        "\r\n",
        "if X < 18.5:\r\n",
        "  print(\"體重過輕，BMI為\", X)\r\n",
        "elif X >= 18.5 and X <= 24:\r\n",
        "  print(\"體重正常，BMI為\", X)\r\n",
        "elif X > 24 and X <= 27:\r\n",
        "  print(\"體重過重，BMI為\", X)\r\n",
        "elif X > 27 and X <= 30:\r\n",
        "  print(\"輕度肥胖，BMI為\", X)\r\n",
        "elif X > 30 and X <= 35:\r\n",
        "  print(\"中度肥胖，BMI為\", X)\r\n",
        "elif X > 35:\r\n",
        "  print(\"重度肥胖，BMI為\", X)"
      ],
      "execution_count": null,
      "outputs": [
        {
          "output_type": "stream",
          "text": [
            "請問您的體重(kg)?50\n",
            "請問您的身高(cm)?150\n",
            "體重正常，BMI為 22.22222222222222\n"
          ],
          "name": "stdout"
        }
      ]
    },
    {
      "cell_type": "code",
      "metadata": {
        "id": "6p-jBKa0n1wq",
        "colab": {
          "base_uri": "https://localhost:8080/"
        },
        "outputId": "d030dc99-bae9-4b6e-9330-a0acf333c88f"
      },
      "source": [
        "#遊戲_終極密碼\r\n",
        "\r\n",
        "import random\r\n",
        "N = random.randint(1,100)\r\n",
        "\r\n",
        "n = input(\"終極密碼開始，請猜一個1到100之間的整數?\")\r\n",
        "n = int(n)\r\n",
        "\r\n",
        "while(n != N):\r\n",
        "    if n > N:\r\n",
        "      print(\"請往下猜\")\r\n",
        "    else:\r\n",
        "      print(\"請往上猜\")\r\n",
        "    n = int(input(\"再猜一次\"))\r\n",
        "\r\n",
        "print(\"Bomb!你猜對了!\")"
      ],
      "execution_count": null,
      "outputs": [
        {
          "output_type": "stream",
          "text": [
            "終極密碼開始，請猜一個1到100之間的整數?50\n",
            "請往上猜\n",
            "再猜一次80\n",
            "請往下猜\n",
            "再猜一次70\n",
            "請往下猜\n",
            "再猜一次60\n",
            "請往上猜\n",
            "再猜一次65\n",
            "請往上猜\n",
            "再猜一次68\n",
            "Bomb!你猜對了!\n"
          ],
          "name": "stdout"
        }
      ]
    }
  ]
}