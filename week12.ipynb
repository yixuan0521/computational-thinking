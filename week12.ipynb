{
  "nbformat": 4,
  "nbformat_minor": 0,
  "metadata": {
    "colab": {
      "name": "week12.ipynb",
      "provenance": [],
      "authorship_tag": "ABX9TyNAnMIR656kWuMhJAo+K7j/",
      "include_colab_link": true
    },
    "kernelspec": {
      "name": "python3",
      "display_name": "Python 3"
    }
  },
  "cells": [
    {
      "cell_type": "markdown",
      "metadata": {
        "id": "view-in-github",
        "colab_type": "text"
      },
      "source": [
        "<a href=\"https://colab.research.google.com/github/yixuan0521/computational-thinking/blob/master/week12.ipynb\" target=\"_parent\"><img src=\"https://colab.research.google.com/assets/colab-badge.svg\" alt=\"Open In Colab\"/></a>"
      ]
    },
    {
      "cell_type": "code",
      "metadata": {
        "colab": {
          "base_uri": "https://localhost:8080/"
        },
        "id": "-cKj2eKZnc4a",
        "outputId": "896d69b2-e1fb-4eb2-e202-c4c660a896e4"
      },
      "source": [
        "hello1 = \"Hello World!\"\n",
        "hello2 = 'Hello Python'\n",
        "hello3 = \"Shaquile O'Neil\"\n",
        "\n",
        "s1 = \"123\"\n",
        "s2 = \"456\"\n",
        "s3 = s1 + s2\n",
        "print(s3)\n",
        "s4 = s1 * 2\n",
        "print(s4)\n",
        "\n",
        "(s1) = 'An apple a day.'\n",
        "print(s1.capitalize())\n",
        "print(s1.title())\n",
        "print(s1.swapcase())\n",
        "print(s1.upper())\n",
        "print(s1.lower())\n",
        "\n",
        "\n"
      ],
      "execution_count": 10,
      "outputs": [
        {
          "output_type": "stream",
          "text": [
            "123456\n",
            "123123\n",
            "An apple a day.\n",
            "An Apple A Day.\n",
            "aN APPLE A DAY.\n",
            "AN APPLE A DAY.\n",
            "an apple a day.\n"
          ],
          "name": "stdout"
        }
      ]
    },
    {
      "cell_type": "code",
      "metadata": {
        "colab": {
          "base_uri": "https://localhost:8080/"
        },
        "id": "spudDfZXwyhK",
        "outputId": "a1392adf-0c3d-497a-9b9a-a957916052f1"
      },
      "source": [
        "favorite_list = [7, \"chocolate\", \"travel\", \"movie\", \"family\"] \n",
        "numlist = [\"1\",\"2\",\"3\",\"4\",\"5\"]\n",
        "print(numlist[1])"
      ],
      "execution_count": 13,
      "outputs": [
        {
          "output_type": "stream",
          "text": [
            "2\n"
          ],
          "name": "stdout"
        }
      ]
    },
    {
      "cell_type": "code",
      "metadata": {
        "colab": {
          "base_uri": "https://localhost:8080/"
        },
        "id": "nbJx-trQ48KW",
        "outputId": "99e3eace-f9d0-4a94-de69-37c10faca8cd"
      },
      "source": [
        "season = \"1995-1996\"\n",
        "team = \"Chicago Bulls\"\n",
        "coach = \"Phil Jackson\"\n",
        "records = [72, 10]\n",
        "starting_lineup = [\"Ron Harper\", \"Michael Jordan\", \"Scottie\",\"Pippen\", \"Dennis Rodman\", \"Luc Longley\"]\n",
        "won_championship = True\n",
        "best_chicago_bulls = list((season, team, coach, records,\n",
        "starting_lineup, won_championship))\n",
        "print(best_chicago_bulls)\n",
        "print(type(best_chicago_bulls))"
      ],
      "execution_count": 17,
      "outputs": [
        {
          "output_type": "stream",
          "text": [
            "['1995-1996', 'Chicago Bulls', 'Phil Jackson', [72, 10], ['Ron Harper', 'Michael Jordan', 'Scottie', 'Pippen', 'Dennis Rodman', 'Luc Longley'], True]\n",
            "<class 'list'>\n"
          ],
          "name": "stdout"
        }
      ]
    }
  ]
}