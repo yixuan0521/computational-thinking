{
  "nbformat": 4,
  "nbformat_minor": 0,
  "metadata": {
    "colab": {
      "name": "week8.ipynb",
      "provenance": [],
      "authorship_tag": "ABX9TyOEEUAAZZPsutGKSGCJ2ynq",
      "include_colab_link": true
    },
    "kernelspec": {
      "name": "python3",
      "display_name": "Python 3"
    }
  },
  "cells": [
    {
      "cell_type": "markdown",
      "metadata": {
        "id": "view-in-github",
        "colab_type": "text"
      },
      "source": [
        "<a href=\"https://colab.research.google.com/github/yixuan0521/computational-thinking/blob/master/week8.ipynb\" target=\"_parent\"><img src=\"https://colab.research.google.com/assets/colab-badge.svg\" alt=\"Open In Colab\"/></a>"
      ]
    },
    {
      "cell_type": "code",
      "metadata": {
        "id": "2jo48Px5zGiI",
        "outputId": "f22d4333-6a6d-4a2b-e248-d35199ff7430",
        "colab": {
          "base_uri": "https://localhost:8080/"
        }
      },
      "source": [
        "cloth = int(input(\"請輸入衣服的數量?\"))\n",
        "pants = int(input(\"請輸入褲子的數量?\"))\n",
        "drink = int(input(\"請輸入飲料的數量?\"))\n",
        "\n",
        "total = cloth+pants+drink\n",
        "print(\"訂購之總數量為\",total)\n",
        "print(\"訂購的平均為\",total/3)\n"
      ],
      "execution_count": 4,
      "outputs": [
        {
          "output_type": "stream",
          "text": [
            "請輸入衣服的數量?25\n",
            "請輸入褲子的數量?25\n",
            "請輸入飲料的數量?25\n",
            "訂購之總數量為 75\n",
            "訂購的平均為 25.0\n"
          ],
          "name": "stdout"
        }
      ]
    }
  ]
}