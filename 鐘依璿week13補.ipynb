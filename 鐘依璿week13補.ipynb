{
  "nbformat": 4,
  "nbformat_minor": 0,
  "metadata": {
    "colab": {
      "name": "鐘依璿week13補.ipynb",
      "provenance": [],
      "authorship_tag": "ABX9TyML6+oXx0Xq8KTqwjx1cPAk",
      "include_colab_link": true
    },
    "kernelspec": {
      "name": "python3",
      "display_name": "Python 3"
    }
  },
  "cells": [
    {
      "cell_type": "markdown",
      "metadata": {
        "id": "view-in-github",
        "colab_type": "text"
      },
      "source": [
        "<a href=\"https://colab.research.google.com/github/yixuan0521/computational-thinking/blob/master/%E9%90%98%E4%BE%9D%E7%92%BFweek13%E8%A3%9C.ipynb\" target=\"_parent\"><img src=\"https://colab.research.google.com/assets/colab-badge.svg\" alt=\"Open In Colab\"/></a>"
      ]
    },
    {
      "cell_type": "code",
      "metadata": {
        "colab": {
          "base_uri": "https://localhost:8080/"
        },
        "id": "UEW9VLAw863-",
        "outputId": "4a14c65c-41e0-4595-f083-fef2e857c642"
      },
      "source": [
        "# 2. 數字1到10奇數之和\n",
        "## 1+3+5+7+9 = ?\n",
        "sum = 0 # 起始值\n",
        "for i in range(1, 11, 2): # 數字串列[1,3,5,7,9]\n",
        "    sum = sum + i # 加總運算,變更條件\n",
        "print(\"Total is\", sum)\n"
      ],
      "execution_count": 1,
      "outputs": [
        {
          "output_type": "stream",
          "text": [
            "Total is 25\n"
          ],
          "name": "stdout"
        }
      ]
    }
  ]
}