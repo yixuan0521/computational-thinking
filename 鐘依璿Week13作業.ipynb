{
  "nbformat": 4,
  "nbformat_minor": 0,
  "metadata": {
    "colab": {
      "name": "鐘依璿Week13作業.ipynb",
      "provenance": [],
      "authorship_tag": "ABX9TyM3vtbb/QpNM0lHcaAl3PMi",
      "include_colab_link": true
    },
    "kernelspec": {
      "name": "python3",
      "display_name": "Python 3"
    }
  },
  "cells": [
    {
      "cell_type": "markdown",
      "metadata": {
        "id": "view-in-github",
        "colab_type": "text"
      },
      "source": [
        "<a href=\"https://colab.research.google.com/github/yixuan0521/computational-thinking/blob/master/%E9%90%98%E4%BE%9D%E7%92%BFWeek13%E4%BD%9C%E6%A5%AD.ipynb\" target=\"_parent\"><img src=\"https://colab.research.google.com/assets/colab-badge.svg\" alt=\"Open In Colab\"/></a>"
      ]
    },
    {
      "cell_type": "code",
      "metadata": {
        "colab": {
          "base_uri": "https://localhost:8080/"
        },
        "id": "8RJoIKMrmarT",
        "outputId": "b9878930-d0a6-45bf-fcd0-c4024162fb9d"
      },
      "source": [
        "# 數字2到10偶數之和\r\n",
        "## 2+4+6+8+10=?\r\n",
        "sum = 0 #\r\n",
        "for i in range(2, 11, 2):\r\n",
        "    sum = sum + i\r\n",
        "print(\"Total is\", sum)\r\n",
        "\r\n",
        "# 數字3到13之間,每隔3個數字之和\r\n",
        "## 3+6+9+12=?\r\n",
        "sum = 0\r\n",
        "for i in range(3, 13, 3):\r\n",
        "    sum = sum + i\r\n",
        "print(\"Total is\", sum)"
      ],
      "execution_count": 2,
      "outputs": [
        {
          "output_type": "stream",
          "text": [
            "Total is 30\n",
            "Total is 30\n"
          ],
          "name": "stdout"
        }
      ]
    }
  ]
}